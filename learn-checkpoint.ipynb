{
 "cells": [
  {
   "cell_type": "code",
   "execution_count": 1,
   "metadata": {},
   "outputs": [],
   "source": [
    "import pandas as pd\n",
    "import sklearn\n",
    "import os\n",
    "import numpy as np\n",
    "from sklearn.linear_model import LinearRegression,LogisticRegression\n",
    "from sklearn.preprocessing import MinMaxScaler, StandardScaler, normalize\n",
    "from sklearn.model_selection import train_test_split\n",
    "from sklearn.metrics import classification_report,r2_score, f1_score, accuracy_score, precision_score, recall_score,confusion_matrix,make_scorer\n",
    "from sklearn import linear_model, metrics, preprocessing\n",
    "from sklearn.model_selection import cross_val_score\n",
    "from sklearn.model_selection import GridSearchCV\n",
    "from sklearn import neighbors, tree, ensemble, naive_bayes, svm\n",
    "from sklearn.neighbors import KNeighborsClassifier\n",
    "from sklearn import tree\n",
    "from sklearn.tree import DecisionTreeClassifier\n",
    "from sklearn.ensemble import RandomForestClassifier\n",
    "from sklearn.svm import SVC\n",
    "from sklearn import metrics, preprocessing, neighbors, cluster\n",
    "from sklearn import cluster\n",
    "from sklearn.cluster import KMeans, AgglomerativeClustering, DBSCAN\n",
    "from scipy.cluster.hierarchy import dendrogram, linkage, fcluster\n",
    "from sklearn.neighbors import kneighbors_graph\n",
    "from sklearn.preprocessing import StandardScaler\n",
    "from sklearn.metrics import silhouette_samples, silhouette_score\n",
    "import matplotlib.pyplot as plt\n",
    "import matplotlib.cm as cm\n",
    "import seaborn as sns\n",
    "%matplotlib inline\n",
    "\n",
    "from scipy.special import expit\n",
    "from scipy.special import logit"
   ]
  },
  {
   "cell_type": "code",
   "execution_count": 2,
   "metadata": {},
   "outputs": [],
   "source": [
    "\n",
    "stats_df = pd.read_csv('C:\\prject\\player_stats_cleaned.csv',index_col = 0)\n",
    "schedule_df = pd.read_csv(r'C:\\prject\\all_teams_schedule_2010_2020_cleaned.csv',index_col = 0)\n",
    "missed_games_df = pd.read_csv('C:\\prject\\missedgames_cleaned.csv',index_col = 0)\n",
    "important_missed_games= pd.read_csv(r'C:\\prject\\important_missedgames_cleaned.csv',index_col = 0)\n",
    "df_game_number= pd.read_csv(r'C:\\prject\\df_game_number.csv',index_col = 0)\n",
    "df_before=pd.read_csv(r'C:\\prject\\before_important_missedgames_cleaned.csv')"
   ]
  },
  {
   "cell_type": "code",
   "execution_count": 3,
   "metadata": {},
   "outputs": [],
   "source": [
    "df_befores=df_before.copy()\n",
    "df_befores.drop_duplicates(subset=['Player','Year'],keep='first',inplace=True)\n",
    "df_befores.drop(columns=['Unnamed: 0'],inplace=True)\n",
    "df_befores.reset_index(drop=True, inplace=True)\n",
    "df_befores['Notes'] = df_befores['Notes'].fillna(0)\n",
    "df_befores['Notes'] = df_befores['Notes'].str.extract('(\\d*)', expand=False)\n",
    "mapping = {'':1,None:0}\n",
    "df_befores.replace({'Notes': mapping},inplace=True)\n",
    "df = pd.DataFrame({\"Notes\": df_befores['Notes'], \"G\": df_befores['G']})"
   ]
  },
  {
   "cell_type": "code",
   "execution_count": 4,
   "metadata": {},
   "outputs": [
    {
     "data": {
      "image/png": "[encoded data removed]",
      "text/plain": [
       "<Figure size 432x288 with 1 Axes>"
      ]
     },
     "metadata": {
      "needs_background": "light"
     },
     "output_type": "display_data"
    }
   ],
   "source": [
    "lrm=linear_model.LogisticRegression()\n",
    "lrm.fit(df[[\"G\"]],df[\"Notes\"])\n",
    "df.plot.scatter(x='G',y='Notes',s=30)\n",
    "x = np.linspace(df['G'].min(),df['G'].max(),1000)\n",
    "y_pred_p=lrm.predict_proba(np.reshape(x, (-1, 1)))\n",
    "y_pred_p1=[y[1] for y in y_pred_p]\n",
    "plt.plot(x,y_pred_p1,color='Black')\n",
    "plt.plot(x,[0.5]*len(x),color=\"red\")\n",
    "plt.show()"
   ]
  },
  {
   "cell_type": "code",
   "execution_count": 5,
   "metadata": {},
   "outputs": [
    {
     "name": "stdout",
     "output_type": "stream",
     "text": [
      "66.58112275680368\n",
      "0.5989403173075807\n",
      "accuracy is: 0.5262063227953411\n",
      "precision is: 0.5347091932457786\n",
      "recall is: 0.4699093157460841\n",
      "f1 is: 0.5002193944712593\n"
     ]
    }
   ],
   "source": [
    "prob_passing = 0.5\n",
    "print(logit(prob_passing) - lrm.intercept_[0]/lrm.coef_[0][0])\n",
    "G=30\n",
    "print(expit(lrm.intercept_[0]+lrm.coef_[0][0]*G))\n",
    "y_pred = lrm.predict(df[[\"G\"]])\n",
    "y_actual=df[\"Notes\"]\n",
    "metrics.confusion_matrix(y_actual, y_pred)\n",
    "print(\"accuracy is:\",metrics.accuracy_score(y_actual, y_pred))\n",
    "print(\"precision is:\",metrics.precision_score(y_actual, y_pred))\n",
    "print(\"recall is:\",metrics.recall_score(y_actual, y_pred))\n",
    "print(\"f1 is:\",metrics.f1_score(y_actual, y_pred))"
   ]
  },
  {
   "cell_type": "code",
   "execution_count": 6,
   "metadata": {},
   "outputs": [
    {
     "name": "stdout",
     "output_type": "stream",
     "text": [
      "Accuracy on training data=  1.0\n",
      "Accuracy on test data=  0.5391014975041597\n"
     ]
    }
   ],
   "source": [
    "df_pre=df_befores.copy()\n",
    "df_pre.drop([\"Player\",\"Pos\",\"Year\",\"Team\"],axis=1,inplace=True)\n",
    "used_features = [\"G\", \"MPPG\",\"BLK\",\"STL\",\"DRB\",\"ORB\",\"FTA\",\"2PA\",\"3PA\",\"FGA\",\"Age\",\"GS\"]\n",
    "injury_pred = df_pre[used_features].values\n",
    "injury_labels = df_pre[\"Notes\"].values\n",
    "XTrain, XTest, yTrain, yTest = train_test_split(injury_pred, injury_labels, random_state=1, test_size=0.5)\n",
    "decisionTree = tree.DecisionTreeClassifier()\n",
    "decisionTree = decisionTree.fit(XTrain, yTrain)\n",
    "y_pred_train = decisionTree.predict(XTrain)\n",
    "print('Accuracy on training data= ', metrics.accuracy_score(y_true = yTrain, y_pred = y_pred_train))\n",
    "y_pred = decisionTree.predict(XTest)\n",
    "print('Accuracy on test data= ', metrics.accuracy_score(y_true = yTest, y_pred = y_pred))"
   ]
  },
  {
   "cell_type": "code",
   "execution_count": 7,
   "metadata": {},
   "outputs": [
    {
     "name": "stdout",
     "output_type": "stream",
     "text": [
      "Accuracy on training data=  1.0\n",
      "Accuracy on test data=  0.6023294509151415\n"
     ]
    }
   ],
   "source": [
    "forest =  RandomForestClassifier(bootstrap=True, n_estimators=300, random_state=0)\n",
    "trained_forest = forest.fit(XTrain, yTrain) \n",
    "y_pred_train = trained_forest.predict(XTrain)\n",
    "print('Accuracy on training data= ', metrics.accuracy_score(y_true = yTrain, y_pred = y_pred_train))\n",
    "y_pred = trained_forest.predict(XTest)\n",
    "print('Accuracy on test data= ', metrics.accuracy_score(y_true = yTest, y_pred = y_pred))"
   ]
  },
  {
   "cell_type": "code",
   "execution_count": 8,
   "metadata": {},
   "outputs": [
    {
     "data": {
      "text/html": [
       "<div>\n",
       "<style scoped>\n",
       "    .dataframe tbody tr th:only-of-type {\n",
       "        vertical-align: middle;\n",
       "    }\n",
       "\n",
       "    .dataframe tbody tr th {\n",
       "        vertical-align: top;\n",
       "    }\n",
       "\n",
       "    .dataframe thead th {\n",
       "        text-align: right;\n",
       "    }\n",
       "</style>\n",
       "<table border=\"1\" class=\"dataframe\">\n",
       "  <thead>\n",
       "    <tr style=\"text-align: right;\">\n",
       "      <th></th>\n",
       "      <th>features</th>\n",
       "      <th>weights</th>\n",
       "    </tr>\n",
       "  </thead>\n",
       "  <tbody>\n",
       "    <tr>\n",
       "      <th>0</th>\n",
       "      <td>G</td>\n",
       "      <td>0.107432</td>\n",
       "    </tr>\n",
       "    <tr>\n",
       "      <th>11</th>\n",
       "      <td>GS</td>\n",
       "      <td>0.097727</td>\n",
       "    </tr>\n",
       "    <tr>\n",
       "      <th>1</th>\n",
       "      <td>MPPG</td>\n",
       "      <td>0.096915</td>\n",
       "    </tr>\n",
       "    <tr>\n",
       "      <th>9</th>\n",
       "      <td>FGA</td>\n",
       "      <td>0.093828</td>\n",
       "    </tr>\n",
       "    <tr>\n",
       "      <th>4</th>\n",
       "      <td>DRB</td>\n",
       "      <td>0.093162</td>\n",
       "    </tr>\n",
       "    <tr>\n",
       "      <th>7</th>\n",
       "      <td>2PA</td>\n",
       "      <td>0.088787</td>\n",
       "    </tr>\n",
       "    <tr>\n",
       "      <th>6</th>\n",
       "      <td>FTA</td>\n",
       "      <td>0.078858</td>\n",
       "    </tr>\n",
       "    <tr>\n",
       "      <th>8</th>\n",
       "      <td>3PA</td>\n",
       "      <td>0.075972</td>\n",
       "    </tr>\n",
       "    <tr>\n",
       "      <th>5</th>\n",
       "      <td>ORB</td>\n",
       "      <td>0.069448</td>\n",
       "    </tr>\n",
       "    <tr>\n",
       "      <th>3</th>\n",
       "      <td>STL</td>\n",
       "      <td>0.068711</td>\n",
       "    </tr>\n",
       "    <tr>\n",
       "      <th>10</th>\n",
       "      <td>Age</td>\n",
       "      <td>0.066739</td>\n",
       "    </tr>\n",
       "    <tr>\n",
       "      <th>2</th>\n",
       "      <td>BLK</td>\n",
       "      <td>0.062421</td>\n",
       "    </tr>\n",
       "  </tbody>\n",
       "</table>\n",
       "</div>"
      ],
      "text/plain": [
       "   features   weights\n",
       "0         G  0.107432\n",
       "11       GS  0.097727\n",
       "1      MPPG  0.096915\n",
       "9       FGA  0.093828\n",
       "4       DRB  0.093162\n",
       "7       2PA  0.088787\n",
       "6       FTA  0.078858\n",
       "8       3PA  0.075972\n",
       "5       ORB  0.069448\n",
       "3       STL  0.068711\n",
       "10      Age  0.066739\n",
       "2       BLK  0.062421"
      ]
     },
     "execution_count": 8,
     "metadata": {},
     "output_type": "execute_result"
    }
   ],
   "source": [
    "featuresDF=pd.DataFrame({\"features\":used_features,\"weights\":trained_forest.feature_importances_})\n",
    "featuresDF.sort_values(\"weights\",ascending=False)"
   ]
  },
  {
   "cell_type": "code",
   "execution_count": 9,
   "metadata": {},
   "outputs": [],
   "source": [
    "def notes_filter(c):\n",
    "    note = c['Notes']\n",
    "    lower_case_note =note.lower()\n",
    "    if any(x in lower_case_note for x in ['return', 'returned','activate', 'activated']):\n",
    "        return 'returned to lineup', '0'\n",
    "    elif lower_case_note == 'placed on il' or lower_case_note == 'placed on il (p)':\n",
    "        return 'roster move', '0'\n",
    "    elif 'suspension' in lower_case_note:\n",
    "        return 'suspension', '0'\n",
    "    elif any(x in lower_case_note for x in ['family','personal','birth', 'death']):\n",
    "        return 'personal reasons', '0'\n",
    "    elif 'rest' in lower_case_note:\n",
    "        return 'rest', '0'\n",
    "    elif any(x in lower_case_note for x in ['virus','headache','flu', 'sick', 'illness','infection','pneumonia', 'gastro','appende','nausea', 'pox', 'dizziness', 'poisoning','bronchitis']):\n",
    "        return 'sick', '0'\n",
    "    elif 'foot' in lower_case_note:\n",
    "        return 'foot', '1'\n",
    "    elif 'toe' in lower_case_note:\n",
    "        return 'toe', '1'\n",
    "    elif 'heel' in lower_case_note:\n",
    "        return 'heel', '1'\n",
    "    elif 'ankle' in lower_case_note:\n",
    "        return 'ankle', '2'             \n",
    "    elif 'achilles'in lower_case_note:\n",
    "        return 'achilles', '2'  \n",
    "    elif 'calf' in lower_case_note:\n",
    "        return 'calf', '2'\n",
    "    elif 'shin' in lower_case_note:\n",
    "        return 'shin', '2'\n",
    "    elif 'tibia' in lower_case_note:\n",
    "        return 'tibia', '2'\n",
    "    elif 'fibula' in lower_case_note:\n",
    "        return 'fibula','2'\n",
    "    elif 'acl' in lower_case_note:\n",
    "        return 'ACL', '3'\n",
    "    elif 'mcl' in lower_case_note:\n",
    "        return 'MCL', '3'\n",
    "    elif any(x in lower_case_note for x in ['knee','patella','meniscus']):\n",
    "        return 'knee', '3'\n",
    "    elif any(x in lower_case_note for x in ['quad','quadriceps','thigh']):\n",
    "        return 'quad', '4'\n",
    "    elif 'hamstring' in lower_case_note:\n",
    "        return 'hamstring', '4'\n",
    "    elif 'groin' in lower_case_note:\n",
    "        return 'groin', '4'\n",
    "    elif any(x in lower_case_note for x in ['hip','adductor']):\n",
    "        return 'hip', '4'\n",
    "    elif 'femur' in lower_case_note:\n",
    "        return 'femur', '4'\n",
    "    elif 'leg' in lower_case_note:\n",
    "        return 'leg', '4'\n",
    "    elif any(x in lower_case_note for x in ['chest', 'pectoral']):\n",
    "        return 'chest', '5'\n",
    "    elif any(x in lower_case_note for x in ['shoulder','rotator cuff']):\n",
    "        return 'shoulder', '5'\n",
    "    elif 'back' in lower_case_note:\n",
    "        return 'back', '5'\n",
    "    elif 'collarbone' in lower_case_note:\n",
    "        return 'collarbone', '5'\n",
    "    elif 'rib' in lower_case_note:\n",
    "        return 'ribs', '5'\n",
    "    elif any(x in lower_case_note for x in ['abdom','abductor','oblique']):\n",
    "        return 'abdominal', '5'\n",
    "    elif 'neck' in lower_case_note:\n",
    "        return 'neck', '6'\n",
    "    elif any(x in lower_case_note for x in ['head', 'concussion']):\n",
    "        return 'head', '6'\n",
    "    elif 'eye' in lower_case_note:\n",
    "        return 'eye', '6'\n",
    "    elif 'nose' in lower_case_note:\n",
    "        return 'nose', '6'\n",
    "    elif 'hand' in lower_case_note:\n",
    "        return 'hand', '6'\n",
    "    elif any(x in lower_case_note for x in ['finger', 'thumb']):\n",
    "        return 'finger', '6'\n",
    "    elif 'arm' in lower_case_note:\n",
    "        return 'arm', '7'\n",
    "    elif 'elbow' in lower_case_note:\n",
    "        return 'elbow', '7'\n",
    "    elif 'bicep' in lower_case_note:\n",
    "        return 'bicep', '7'\n",
    "    elif 'tricep' in lower_case_note:\n",
    "        return 'tricep', '7'\n",
    "    elif 'wrist' in lower_case_note:\n",
    "        return 'wrist', '7'     \n",
    "    else:\n",
    "        return 'other', '0'"
   ]
  },
  {
   "cell_type": "code",
   "execution_count": 10,
   "metadata": {},
   "outputs": [],
   "source": [
    "df_knn=important_missed_games.copy()\n",
    "df_knn['area'] = ''\n",
    "df_knn['category'] = ''\n",
    "df_knn[['area', 'category']]= df_knn.apply(notes_filter, axis = 1, result_type=\"expand\")\n",
    "df_knn.drop(['area','Notes','Player','Team','Pos'],axis=1,inplace=True)"
   ]
  },
  {
   "cell_type": "code",
   "execution_count": 11,
   "metadata": {},
   "outputs": [],
   "source": [
    "y=df_knn[\"category\"]\n",
    "X=df_knn\n",
    "X.drop([\"category\"],axis=1,inplace=True)\n",
    "X_train, X_test, y_train, y_test = train_test_split(X, y, random_state=1, test_size=0.7)\n",
    "scaler = StandardScaler() \n",
    "scaler.fit(X) \n",
    "scaled_features = scaler.transform(X)"
   ]
  },
  {
   "cell_type": "code",
   "execution_count": 12,
   "metadata": {},
   "outputs": [
    {
     "data": {
      "text/plain": [
       "Text(0, 0.5, 'Error Rate')"
      ]
     },
     "execution_count": 12,
     "metadata": {},
     "output_type": "execute_result"
    },
    {
     "data": {
      "image/png": "[encoded data removed]",
      "text/plain": [
       "<Figure size 720x432 with 1 Axes>"
      ]
     },
     "metadata": {
      "needs_background": "light"
     },
     "output_type": "display_data"
    }
   ],
   "source": [
    "error_rate = [] \n",
    "for i in range(1, 40): \n",
    "    knn = KNeighborsClassifier(n_neighbors = i) \n",
    "    knn.fit(X_train, y_train) \n",
    "    pred_i = knn.predict(X_test) \n",
    "    error_rate.append(np.mean(pred_i != y_test)) \n",
    "plt.figure(figsize =(10, 6)) \n",
    "plt.plot(range(1, 40), error_rate, color ='blue', \n",
    "                linestyle ='dashed', marker ='o', \n",
    "         markerfacecolor ='red', markersize = 10) \n",
    "plt.title('Error Rate vs. K Value') \n",
    "plt.xlabel('K') \n",
    "plt.ylabel('Error Rate') "
   ]
  },
  {
   "cell_type": "code",
   "execution_count": 13,
   "metadata": {},
   "outputs": [
    {
     "name": "stdout",
     "output_type": "stream",
     "text": [
      "[[153  20  84  70  63  53  28   5]\n",
      " [ 37  74  32  21  15   7  13   6]\n",
      " [ 53  23 240  79  54  54  37  15]\n",
      " [ 73  22  52 161  33  37  24   5]\n",
      " [ 64  11  38  45 144  39  19   6]\n",
      " [ 49  18  52  22  33 116  14  10]\n",
      " [ 30  11  32  23  19  13 124   3]\n",
      " [  7   3  10  14   7  13   8  15]]\n",
      "              precision    recall  f1-score   support\n",
      "\n",
      "           0       0.33      0.32      0.32       476\n",
      "           1       0.41      0.36      0.38       205\n",
      "           2       0.44      0.43      0.44       555\n",
      "           3       0.37      0.40      0.38       407\n",
      "           4       0.39      0.39      0.39       366\n",
      "           5       0.35      0.37      0.36       314\n",
      "           6       0.46      0.49      0.48       255\n",
      "           7       0.23      0.19      0.21        77\n",
      "\n",
      "    accuracy                           0.39      2655\n",
      "   macro avg       0.37      0.37      0.37      2655\n",
      "weighted avg       0.39      0.39      0.39      2655\n",
      "\n"
     ]
    }
   ],
   "source": [
    "knn=KNeighborsClassifier(n_neighbors=1)\n",
    "knn.fit(X_train, y_train) \n",
    "pred = knn.predict(X_test) \n",
    "print(confusion_matrix(y_test, pred)) \n",
    "print(classification_report(y_test, pred)) "
   ]
  }
 ],
 "metadata": {
  "kernelspec": {
   "display_name": "Python 3",
   "language": "python",
   "name": "python3"
  },
  "language_info": {
   "codemirror_mode": {
    "name": "ipython",
    "version": 3
   },
   "file_extension": ".py",
   "mimetype": "text/x-python",
   "name": "python",
   "nbconvert_exporter": "python",
   "pygments_lexer": "ipython3",
   "version": "3.8.3"
  }
 },
 "nbformat": 4,
 "nbformat_minor": 4
}
