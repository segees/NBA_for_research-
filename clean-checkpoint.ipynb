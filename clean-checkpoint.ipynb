{
 "cells": [
  {
   "cell_type": "code",
   "execution_count": 1,
   "metadata": {},
   "outputs": [],
   "source": [
    "import pandas as pd\n",
    "import unicodedata"
   ]
  },
  {
   "cell_type": "code",
   "execution_count": 2,
   "metadata": {},
   "outputs": [
    {
     "name": "stdout",
     "output_type": "stream",
     "text": [
      "OK\n"
     ]
    }
   ],
   "source": [
    "team_reference = {\n",
    "    'Hawks': 'Atlanta Hawks',\n",
    "    'Celtics': 'Boston Celtics',\n",
    "    'Bobcats': 'Charlotte Bobcats',\n",
    "    'Bulls': 'Chicago Bulls',\n",
    "    'Cavaliers': 'Cleveland Cavaliers',\n",
    "    'Mavericks': 'Dallas Mavericks',\n",
    "    'Nuggets': 'Denver Nuggets',\n",
    "    'Pistons': 'Detroit Pistons',\n",
    "    'Warriors': 'Golden State Warriors',\n",
    "    'Rockets': 'Houston Rockets',\n",
    "    'Pacers': 'Indiana Pacers',\n",
    "    'Clippers': 'Los Angeles Clippers',\n",
    "    'Lakers': 'Los Angeles Lakers',\n",
    "    'Grizzlies': 'Memphis Grizzlies',\n",
    "    'Heat': 'Miami Heat',\n",
    "    'Bucks': 'Milwaukee Bucks',\n",
    "    'Timberwolves': 'Minnesota Timberwolves',\n",
    "    'Pelicans': 'New Orleans Pelicans',\n",
    "    'Knicks': 'New York Knicks',\n",
    "    'Thunder': 'Oklahoma City Thunder',\n",
    "    'Magic': 'Orlando Magic',\n",
    "    '76ers': 'Philadelphia 76ers',\n",
    "    'Suns': 'Phoenix Suns',\n",
    "    'Blazers': 'Portland Trailblazers',\n",
    "    'Kings': 'Sacramento Kings',\n",
    "    'Spurs': 'San Antonio Spurs',\n",
    "    'Raptors': 'Toronto Raptors',\n",
    "    'Jazz': 'Utah Jazz',\n",
    "    'Wizards': 'Washington Wizards',\n",
    "    'New Jersey Nets':'New Jersey Nets',\n",
    "    'Brooklyn Nets':'Brooklyn Nets',\n",
    "    'New Orleans Hornets':'New Orleans Hornets',\n",
    "    'Charlotte Hornets':'Charlotte Hornets',\n",
    "}\n",
    "team_short_dict = {\n",
    "    'ATL': 'Atlanta Hawks',\n",
    "    'BOS': 'Boston Celtics',\n",
    "    'CHA': 'Charlotte Bobcats',\n",
    "    'CHI': 'Chicago Bulls',\n",
    "    'CLE': 'Cleveland Cavaliers',\n",
    "    'DAL': 'Dallas Mavericks',\n",
    "    'DEN': 'Denver Nuggets',\n",
    "    'DET': 'Detroit Pistons',\n",
    "    'GSW': 'Golden State Warriors',\n",
    "    'HOU': 'Houston Rockets',\n",
    "    'IND': 'Indiana Pacers',\n",
    "    'LAC': 'Los Angeles Clippers',\n",
    "    'LAL': 'Los Angeles Lakers',\n",
    "    'MEM': 'Memphis Grizzlies',\n",
    "    'MIA': 'Miami Heat',\n",
    "    'MIL': 'Milwaukee Bucks',\n",
    "    'MIN': 'Minnesota Timberwolves',\n",
    "    'NOP': 'New Orleans Pelicans',\n",
    "    'NYK': 'New York Knicks',\n",
    "    'OKC': 'Oklahoma City Thunder',\n",
    "    'ORL': 'Orlando Magic',\n",
    "    'PHI': 'Philadelphia 76ers',\n",
    "    'PHO': 'Phoenix Suns',\n",
    "    'POR': 'Portland Trailblazers',\n",
    "    'SAC': 'Sacramento Kings',\n",
    "    'SAS': 'San Antonio Spurs',\n",
    "    'TOR': 'Toronto Raptors',\n",
    "    'UTA': 'Utah Jazz',\n",
    "    'WAS': 'Washington Wizards',\n",
    "    'NJN': 'New Jersey Nets',\n",
    "    'TOT': 'Toronto Raptors',\n",
    "    'BRK': 'Brooklyn Nets',\n",
    "    'NOH': 'New Orleans Hornets',\n",
    "    'CHO': 'Charlotte Hornets',\n",
    "    'SEA': 'Seattle Supersonics',\n",
    "    'CHH': 'Charlotte Hornets',\n",
    "    'WSB': 'Washington Bullets',\n",
    "    'NOK': 'New Orleans Hornets',\n",
    "    'VAN': 'Vancouver Grizzlies',\n",
    "}"
   ]
  },
  {
   "cell_type": "code",
   "execution_count": 3,
   "metadata": {},
   "outputs": [
    {
     "name": "stdout",
     "output_type": "stream",
     "text": [
      "ok\n"
     ]
    }
   ],
   "source": [
    "def strip_accents(s):\n",
    "    return ''.join(c for c in unicodedata.normalize('NFD', s) if unicodedata.category(c) != 'Mn')\n",
    "\n",
    "player_stats_df = pd.read_csv('C:\\prject\\player_stats_2010_2020.csv',index_col = 0)\n",
    "player_stats_df['Player'] = player_stats_df['Player'].apply(strip_accents)\n",
    "player_stats_df['Player'] = player_stats_df['Player'].replace(regex = ['\\*'], value = '')\n",
    "player_stats_df['Player'].replace('\\.','', regex=True, inplace = True)\n",
    "player_stats_df['Player']= player_stats_df['Player'].str.strip()\n",
    "player_stats_df['Tm'] = player_stats_df['Tm'].replace(team_short_dict)\n",
    "player_stats_df.drop([ 'FG', 'FG%', '3P', '3P%', '2P', '2P%', 'eFG%', 'FT' , 'FT%', 'TRB', 'AST' , 'TOV', 'PF', 'PTS'], axis = 1, inplace = True)\n",
    "player_stats_df.columns = ['Year', 'Player', 'Pos', 'Age', 'Team', 'G', 'GS', 'MPPG','FGA', '3PA', '2PA','FTA','ORB', 'DRB', 'STL', 'BLK']\n",
    "player_stats_df.drop_duplicates(subset=['Player','Year'],keep='first',inplace=True)\n",
    "player_stats_df.reset_index(drop=True, inplace=True)\n",
    "player_stats_df.to_csv('C:\\prject\\player_stats_cleaned.csv')"
   ]
  },
  {
   "cell_type": "code",
   "execution_count": 9,
   "metadata": {},
   "outputs": [],
   "source": [
    "def player_name_standardizer(aliases_df,names_with_stats_series):\n",
    "    df = aliases_df.drop_duplicates('Player')\n",
    "    df['Name_to_use'] = ''\n",
    "    names_stats = names_with_stats_series\n",
    "    for row in df.itertuples():\n",
    "        if not names_stats[names_stats.isin([row.Player])].empty:\n",
    "            df['Name_to_use'][row.Index] = row.Player\n",
    "        elif names_stats[names_stats.isin([row.Player])].empty:\n",
    "            if not names_stats[names_stats.isin([row.Alt_name_1])].empty:\n",
    "                df['Name_to_use'][row.Index] = row.Alt_name_1\n",
    "            elif names_stats[names_stats.isin([row.Alt_name_1])].empty:  \n",
    "                if not names_stats[names_stats.isin([row.Alt_name_2])].empty:\n",
    "                    df['Name_to_use'][row.Index] = row.Alt_name_2\n",
    "                elif names_stats[names_stats.isin([row.Alt_name_2])].empty:\n",
    "                    df['Name_to_use'][row.Index] = 'No Match'\n",
    "        else:\n",
    "            df['Name_to_use'][row.Index] = 'No Match'     \n",
    "    name_dictionary = dict(zip(df.Player, df.Name_to_use))\n",
    "    return name_dictionary"
   ]
  },
  {
   "cell_type": "code",
   "execution_count": 10,
   "metadata": {},
   "outputs": [
    {
     "name": "stderr",
     "output_type": "stream",
     "text": [
      "<ipython-input-9-789a178ec6ea>:3: SettingWithCopyWarning: \n",
      "A value is trying to be set on a copy of a slice from a DataFrame.\n",
      "Try using .loc[row_indexer,col_indexer] = value instead\n",
      "\n",
      "See the caveats in the documentation: https://pandas.pydata.org/pandas-docs/stable/user_guide/indexing.html#returning-a-view-versus-a-copy\n",
      "  df['Name_to_use'] = ''\n",
      "<ipython-input-10-14c8dcf31f6b>:27: SettingWithCopyWarning: \n",
      "A value is trying to be set on a copy of a slice from a DataFrame\n",
      "\n",
      "See the caveats in the documentation: https://pandas.pydata.org/pandas-docs/stable/user_guide/indexing.html#returning-a-view-versus-a-copy\n",
      "  player_spelling_dict = player_name_standardizer(aliases_df,player_stats_df)\n"
     ]
    },
    {
     "name": "stdout",
     "output_type": "stream",
     "text": [
      "OK\n"
     ]
    }
   ],
   "source": [
    "missed_games_df = pd.read_csv('C:\\prject\\prosportstransactions_scrape_missedgames_2010_2020.csv',index_col = 0)\n",
    "missed_games_df['Date']=pd.to_datetime(missed_games_df['Date'],infer_datetime_format=True)\n",
    "missed_games_df.sort_values(by = 'Date', inplace = True)\n",
    "missed_games_df.reset_index(drop = True, inplace = True)\n",
    "\n",
    "missed_games_df.loc[((missed_games_df['Team'] == 'Nets') & (missed_games_df['Date'] <= pd.to_datetime('2012-06-18',infer_datetime_format=True))), 'Team'] = 'New Jersey Nets'\n",
    "missed_games_df.loc[((missed_games_df['Team'] == 'Nets') & (missed_games_df['Date'] >= pd.to_datetime('2012-06-18',infer_datetime_format=True))), 'Team'] = 'Brooklyn Nets'\n",
    "missed_games_df.loc[((missed_games_df['Team'] == 'Hornets') & (missed_games_df['Date'] <= pd.to_datetime('2013-06-18',infer_datetime_format=True))), 'Team'] = 'New Orleans Hornets'\n",
    "missed_games_df.loc[((missed_games_df['Team'] == 'Hornets') & (missed_games_df['Date'] >= pd.to_datetime('2013-06-18',infer_datetime_format=True))), 'Team'] = 'Charlotte Hornets'\n",
    "\n",
    "missed_games_df['Team'] = missed_games_df['Team'].map(team_reference)\n",
    "missed_games_df.drop(index = missed_games_df[missed_games_df['Team'].isnull()].index, inplace = True)\n",
    "\n",
    "all_events_names = missed_games_df['Player'].fillna('')\n",
    "aliases_df = all_events_names.str.split(pat = '/', expand = True)\n",
    "aliases_df.columns = ['Player', 'Alt_name_1', 'Alt_name_2'] \n",
    "aliases_df.replace(regex = ['\\(.*?\\)'], value = '', inplace = True)\n",
    "aliases_df.replace(regex = ['Jr\\.'], value = '', inplace = True)\n",
    "aliases_df.replace(regex = ['III'], value = '', inplace = True)\n",
    "aliases_df.replace(regex = ['IV'], value = '', inplace = True)\n",
    "aliases_df['Player'].replace('\\.', '', regex=True, inplace = True)\n",
    "aliases_df['Alt_name_1'].replace('\\.', '', regex=True, inplace = True)\n",
    "aliases_df['Alt_name_2'].replace('\\.', '', regex=True, inplace = True)\n",
    "aliases_df['Player']= aliases_df['Player'].str.strip()\n",
    "aliases_df['Alt_name_1']= aliases_df['Alt_name_1'].str.strip()\n",
    "aliases_df['Alt_name_2']= aliases_df['Alt_name_2'].str.strip()\n",
    "player_spelling_dict = player_name_standardizer(aliases_df,player_stats_df)\n",
    "aliases_df['Player'] = aliases_df['Player'].map(player_spelling_dict )\n",
    "indexNames = missed_games_df[ (missed_games_df['Notes']=='placed on IL (death in family)')|\n",
    "                             (missed_games_df['Notes']=='placed on IL for personal reasons')|\n",
    "                           (missed_games_df['Notes']=='placed on IL for family reasons')|\n",
    "                            (missed_games_df['Notes']=='placed on IL with death in family')].index\n",
    "missed_games_df.drop(indexNames , inplace=True)\n",
    "missed_games_df['Player'] = aliases_df['Player']\n",
    "missed_games_df['Player']=missed_games_df['Player'][missed_games_df['Player'] != '']\n",
    "missed_games_df.dropna(inplace=True)\n",
    "missed_games_df.reset_index(drop=True, inplace=True)\n",
    "missed_games_df.to_csv('C:\\prject\\missedgames_cleaned.csv')"
   ]
  },
  {
   "cell_type": "code",
   "execution_count": 12,
   "metadata": {},
   "outputs": [
    {
     "name": "stdout",
     "output_type": "stream",
     "text": [
      "OK\n"
     ]
    }
   ],
   "source": [
    "all_teams_sched_df = pd.read_csv(r'C:\\prject\\all_teams_schedule_2010_2020.csv',index_col = 0)\n",
    "all_teams_sched_df ['Date']=pd.to_datetime(all_teams_sched_df ['Date'],format='%a, %b %d, %Y', errors = 'coerce')\n",
    "all_teams_sched_df ['Date']=pd.to_datetime(all_teams_sched_df ['Date'],infer_datetime_format=True)\n",
    "all_teams_sched_df=all_teams_sched_df[all_teams_sched_df.Game_num<83]\n",
    "all_teams_sched_df.drop(['Year','Opponent','OT_flag'],axis=1,inplace=True)\n",
    "all_teams_sched_df['Away_flag'].fillna(0,inplace=True)\n",
    "mapping = {'@': 1,'0':0}\n",
    "all_teams_sched_df.replace({'Away_flag': mapping},inplace=True)\n",
    "all_teams_sched_df.reset_index(drop=True, inplace=True)\n",
    "all_teams_sched_df.to_csv(r'C:\\prject\\all_teams_schedule_2010_2020_cleaned.csv')"
   ]
  },
  {
   "cell_type": "code",
   "execution_count": null,
   "metadata": {},
   "outputs": [],
   "source": []
  }
 ],
 "metadata": {
  "kernelspec": {
   "display_name": "Python 3",
   "language": "python",
   "name": "python3"
  },
  "language_info": {
   "codemirror_mode": {
    "name": "ipython",
    "version": 3
   },
   "file_extension": ".py",
   "mimetype": "text/x-python",
   "name": "python",
   "nbconvert_exporter": "python",
   "pygments_lexer": "ipython3",
   "version": "3.8.3"
  }
 },
 "nbformat": 4,
 "nbformat_minor": 4
}
